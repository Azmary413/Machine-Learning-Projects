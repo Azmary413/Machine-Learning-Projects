{
 "cells": [
  {
   "cell_type": "markdown",
   "id": "c25d70cd",
   "metadata": {},
   "source": [
    "## Importing the necessary libraries"
   ]
  },
  {
   "cell_type": "code",
   "execution_count": 69,
   "id": "df200098",
   "metadata": {},
   "outputs": [],
   "source": [
    "import numpy as np\n",
    "import pandas as pd\n",
    "import matplotlib.pyplot as plt\n",
    "import seaborn as sns\n",
    "from sklearn.model_selection import train_test_split\n",
    "from sklearn.ensemble import RandomForestRegressor\n",
    "from sklearn import metrics"
   ]
  },
  {
   "cell_type": "markdown",
   "id": "c2529dba",
   "metadata": {},
   "source": [
    "## Data Collection and Processing "
   ]
  },
  {
   "cell_type": "code",
   "execution_count": 70,
   "id": "27186bde",
   "metadata": {},
   "outputs": [],
   "source": [
    "#Loading the csv data to a pandas DataFrame\n",
    "gold_data = pd.read_csv(\"gold_data.csv\")\n"
   ]
  },
  {
   "cell_type": "code",
   "execution_count": 71,
   "id": "398cfd59",
   "metadata": {},
   "outputs": [
    {
     "data": {
      "text/html": [
       "<div>\n",
       "<style scoped>\n",
       "    .dataframe tbody tr th:only-of-type {\n",
       "        vertical-align: middle;\n",
       "    }\n",
       "\n",
       "    .dataframe tbody tr th {\n",
       "        vertical-align: top;\n",
       "    }\n",
       "\n",
       "    .dataframe thead th {\n",
       "        text-align: right;\n",
       "    }\n",
       "</style>\n",
       "<table border=\"1\" class=\"dataframe\">\n",
       "  <thead>\n",
       "    <tr style=\"text-align: right;\">\n",
       "      <th></th>\n",
       "      <th>Date</th>\n",
       "      <th>SPX</th>\n",
       "      <th>GLD</th>\n",
       "      <th>USO</th>\n",
       "      <th>SLV</th>\n",
       "      <th>EUR/USD</th>\n",
       "    </tr>\n",
       "  </thead>\n",
       "  <tbody>\n",
       "    <tr>\n",
       "      <th>0</th>\n",
       "      <td>1/2/2008</td>\n",
       "      <td>1447.160034</td>\n",
       "      <td>84.860001</td>\n",
       "      <td>78.470001</td>\n",
       "      <td>15.180</td>\n",
       "      <td>1.471692</td>\n",
       "    </tr>\n",
       "    <tr>\n",
       "      <th>1</th>\n",
       "      <td>1/3/2008</td>\n",
       "      <td>1447.160034</td>\n",
       "      <td>85.570000</td>\n",
       "      <td>78.370003</td>\n",
       "      <td>15.285</td>\n",
       "      <td>1.474491</td>\n",
       "    </tr>\n",
       "    <tr>\n",
       "      <th>2</th>\n",
       "      <td>1/4/2008</td>\n",
       "      <td>1411.630005</td>\n",
       "      <td>85.129997</td>\n",
       "      <td>77.309998</td>\n",
       "      <td>15.167</td>\n",
       "      <td>1.475492</td>\n",
       "    </tr>\n",
       "    <tr>\n",
       "      <th>3</th>\n",
       "      <td>1/7/2008</td>\n",
       "      <td>1416.180054</td>\n",
       "      <td>84.769997</td>\n",
       "      <td>75.500000</td>\n",
       "      <td>15.053</td>\n",
       "      <td>1.468299</td>\n",
       "    </tr>\n",
       "    <tr>\n",
       "      <th>4</th>\n",
       "      <td>1/8/2008</td>\n",
       "      <td>1390.189941</td>\n",
       "      <td>86.779999</td>\n",
       "      <td>76.059998</td>\n",
       "      <td>15.590</td>\n",
       "      <td>1.557099</td>\n",
       "    </tr>\n",
       "  </tbody>\n",
       "</table>\n",
       "</div>"
      ],
      "text/plain": [
       "       Date          SPX        GLD        USO     SLV   EUR/USD\n",
       "0  1/2/2008  1447.160034  84.860001  78.470001  15.180  1.471692\n",
       "1  1/3/2008  1447.160034  85.570000  78.370003  15.285  1.474491\n",
       "2  1/4/2008  1411.630005  85.129997  77.309998  15.167  1.475492\n",
       "3  1/7/2008  1416.180054  84.769997  75.500000  15.053  1.468299\n",
       "4  1/8/2008  1390.189941  86.779999  76.059998  15.590  1.557099"
      ]
     },
     "execution_count": 71,
     "metadata": {},
     "output_type": "execute_result"
    }
   ],
   "source": [
    "gold_data.head()"
   ]
  },
  {
   "cell_type": "code",
   "execution_count": 72,
   "id": "8d1d1f4f",
   "metadata": {},
   "outputs": [
    {
     "data": {
      "text/html": [
       "<div>\n",
       "<style scoped>\n",
       "    .dataframe tbody tr th:only-of-type {\n",
       "        vertical-align: middle;\n",
       "    }\n",
       "\n",
       "    .dataframe tbody tr th {\n",
       "        vertical-align: top;\n",
       "    }\n",
       "\n",
       "    .dataframe thead th {\n",
       "        text-align: right;\n",
       "    }\n",
       "</style>\n",
       "<table border=\"1\" class=\"dataframe\">\n",
       "  <thead>\n",
       "    <tr style=\"text-align: right;\">\n",
       "      <th></th>\n",
       "      <th>Date</th>\n",
       "      <th>SPX</th>\n",
       "      <th>GLD</th>\n",
       "      <th>USO</th>\n",
       "      <th>SLV</th>\n",
       "      <th>EUR/USD</th>\n",
       "    </tr>\n",
       "  </thead>\n",
       "  <tbody>\n",
       "    <tr>\n",
       "      <th>2285</th>\n",
       "      <td>5/8/2018</td>\n",
       "      <td>2671.919922</td>\n",
       "      <td>124.589996</td>\n",
       "      <td>14.0600</td>\n",
       "      <td>15.5100</td>\n",
       "      <td>1.186789</td>\n",
       "    </tr>\n",
       "    <tr>\n",
       "      <th>2286</th>\n",
       "      <td>5/9/2018</td>\n",
       "      <td>2697.790039</td>\n",
       "      <td>124.330002</td>\n",
       "      <td>14.3700</td>\n",
       "      <td>15.5300</td>\n",
       "      <td>1.184722</td>\n",
       "    </tr>\n",
       "    <tr>\n",
       "      <th>2287</th>\n",
       "      <td>5/10/2018</td>\n",
       "      <td>2723.070068</td>\n",
       "      <td>125.180000</td>\n",
       "      <td>14.4100</td>\n",
       "      <td>15.7400</td>\n",
       "      <td>1.191753</td>\n",
       "    </tr>\n",
       "    <tr>\n",
       "      <th>2288</th>\n",
       "      <td>5/14/2018</td>\n",
       "      <td>2730.129883</td>\n",
       "      <td>124.489998</td>\n",
       "      <td>14.3800</td>\n",
       "      <td>15.5600</td>\n",
       "      <td>1.193118</td>\n",
       "    </tr>\n",
       "    <tr>\n",
       "      <th>2289</th>\n",
       "      <td>5/16/2018</td>\n",
       "      <td>2725.780029</td>\n",
       "      <td>122.543800</td>\n",
       "      <td>14.4058</td>\n",
       "      <td>15.4542</td>\n",
       "      <td>1.182033</td>\n",
       "    </tr>\n",
       "  </tbody>\n",
       "</table>\n",
       "</div>"
      ],
      "text/plain": [
       "           Date          SPX         GLD      USO      SLV   EUR/USD\n",
       "2285   5/8/2018  2671.919922  124.589996  14.0600  15.5100  1.186789\n",
       "2286   5/9/2018  2697.790039  124.330002  14.3700  15.5300  1.184722\n",
       "2287  5/10/2018  2723.070068  125.180000  14.4100  15.7400  1.191753\n",
       "2288  5/14/2018  2730.129883  124.489998  14.3800  15.5600  1.193118\n",
       "2289  5/16/2018  2725.780029  122.543800  14.4058  15.4542  1.182033"
      ]
     },
     "execution_count": 72,
     "metadata": {},
     "output_type": "execute_result"
    }
   ],
   "source": [
    "gold_data.tail()"
   ]
  },
  {
   "cell_type": "code",
   "execution_count": 73,
   "id": "77caa801",
   "metadata": {},
   "outputs": [
    {
     "data": {
      "text/plain": [
       "(2290, 6)"
      ]
     },
     "execution_count": 73,
     "metadata": {},
     "output_type": "execute_result"
    }
   ],
   "source": [
    "gold_data.shape"
   ]
  },
  {
   "cell_type": "code",
   "execution_count": 74,
   "id": "790ed83b",
   "metadata": {},
   "outputs": [
    {
     "name": "stdout",
     "output_type": "stream",
     "text": [
      "<class 'pandas.core.frame.DataFrame'>\n",
      "RangeIndex: 2290 entries, 0 to 2289\n",
      "Data columns (total 6 columns):\n",
      " #   Column   Non-Null Count  Dtype  \n",
      "---  ------   --------------  -----  \n",
      " 0   Date     2290 non-null   object \n",
      " 1   SPX      2290 non-null   float64\n",
      " 2   GLD      2290 non-null   float64\n",
      " 3   USO      2290 non-null   float64\n",
      " 4   SLV      2290 non-null   float64\n",
      " 5   EUR/USD  2290 non-null   float64\n",
      "dtypes: float64(5), object(1)\n",
      "memory usage: 107.5+ KB\n"
     ]
    }
   ],
   "source": [
    "gold_data.info()"
   ]
  },
  {
   "cell_type": "code",
   "execution_count": 75,
   "id": "ea94697a",
   "metadata": {},
   "outputs": [
    {
     "data": {
      "text/plain": [
       "Date       0\n",
       "SPX        0\n",
       "GLD        0\n",
       "USO        0\n",
       "SLV        0\n",
       "EUR/USD    0\n",
       "dtype: int64"
      ]
     },
     "execution_count": 75,
     "metadata": {},
     "output_type": "execute_result"
    }
   ],
   "source": [
    "gold_data.isnull().sum()"
   ]
  },
  {
   "cell_type": "code",
   "execution_count": 76,
   "id": "6dbe35f8",
   "metadata": {},
   "outputs": [
    {
     "data": {
      "text/html": [
       "<div>\n",
       "<style scoped>\n",
       "    .dataframe tbody tr th:only-of-type {\n",
       "        vertical-align: middle;\n",
       "    }\n",
       "\n",
       "    .dataframe tbody tr th {\n",
       "        vertical-align: top;\n",
       "    }\n",
       "\n",
       "    .dataframe thead th {\n",
       "        text-align: right;\n",
       "    }\n",
       "</style>\n",
       "<table border=\"1\" class=\"dataframe\">\n",
       "  <thead>\n",
       "    <tr style=\"text-align: right;\">\n",
       "      <th></th>\n",
       "      <th>SPX</th>\n",
       "      <th>GLD</th>\n",
       "      <th>USO</th>\n",
       "      <th>SLV</th>\n",
       "      <th>EUR/USD</th>\n",
       "    </tr>\n",
       "  </thead>\n",
       "  <tbody>\n",
       "    <tr>\n",
       "      <th>count</th>\n",
       "      <td>2290.000000</td>\n",
       "      <td>2290.000000</td>\n",
       "      <td>2290.000000</td>\n",
       "      <td>2290.000000</td>\n",
       "      <td>2290.000000</td>\n",
       "    </tr>\n",
       "    <tr>\n",
       "      <th>mean</th>\n",
       "      <td>1654.315776</td>\n",
       "      <td>122.732875</td>\n",
       "      <td>31.842221</td>\n",
       "      <td>20.084997</td>\n",
       "      <td>1.283653</td>\n",
       "    </tr>\n",
       "    <tr>\n",
       "      <th>std</th>\n",
       "      <td>519.111540</td>\n",
       "      <td>23.283346</td>\n",
       "      <td>19.523517</td>\n",
       "      <td>7.092566</td>\n",
       "      <td>0.131547</td>\n",
       "    </tr>\n",
       "    <tr>\n",
       "      <th>min</th>\n",
       "      <td>676.530029</td>\n",
       "      <td>70.000000</td>\n",
       "      <td>7.960000</td>\n",
       "      <td>8.850000</td>\n",
       "      <td>1.039047</td>\n",
       "    </tr>\n",
       "    <tr>\n",
       "      <th>25%</th>\n",
       "      <td>1239.874969</td>\n",
       "      <td>109.725000</td>\n",
       "      <td>14.380000</td>\n",
       "      <td>15.570000</td>\n",
       "      <td>1.171313</td>\n",
       "    </tr>\n",
       "    <tr>\n",
       "      <th>50%</th>\n",
       "      <td>1551.434998</td>\n",
       "      <td>120.580002</td>\n",
       "      <td>33.869999</td>\n",
       "      <td>17.268500</td>\n",
       "      <td>1.303297</td>\n",
       "    </tr>\n",
       "    <tr>\n",
       "      <th>75%</th>\n",
       "      <td>2073.010070</td>\n",
       "      <td>132.840004</td>\n",
       "      <td>37.827501</td>\n",
       "      <td>22.882500</td>\n",
       "      <td>1.369971</td>\n",
       "    </tr>\n",
       "    <tr>\n",
       "      <th>max</th>\n",
       "      <td>2872.870117</td>\n",
       "      <td>184.589996</td>\n",
       "      <td>117.480003</td>\n",
       "      <td>47.259998</td>\n",
       "      <td>1.598798</td>\n",
       "    </tr>\n",
       "  </tbody>\n",
       "</table>\n",
       "</div>"
      ],
      "text/plain": [
       "               SPX          GLD          USO          SLV      EUR/USD\n",
       "count  2290.000000  2290.000000  2290.000000  2290.000000  2290.000000\n",
       "mean   1654.315776   122.732875    31.842221    20.084997     1.283653\n",
       "std     519.111540    23.283346    19.523517     7.092566     0.131547\n",
       "min     676.530029    70.000000     7.960000     8.850000     1.039047\n",
       "25%    1239.874969   109.725000    14.380000    15.570000     1.171313\n",
       "50%    1551.434998   120.580002    33.869999    17.268500     1.303297\n",
       "75%    2073.010070   132.840004    37.827501    22.882500     1.369971\n",
       "max    2872.870117   184.589996   117.480003    47.259998     1.598798"
      ]
     },
     "execution_count": 76,
     "metadata": {},
     "output_type": "execute_result"
    }
   ],
   "source": [
    "gold_data.describe()"
   ]
  },
  {
   "cell_type": "markdown",
   "id": "61c22ee2",
   "metadata": {},
   "source": [
    "### Finding Correlation"
   ]
  },
  {
   "cell_type": "code",
   "execution_count": 78,
   "id": "62b9889f",
   "metadata": {},
   "outputs": [],
   "source": [
    "correlation = gold_data.corr()"
   ]
  },
  {
   "cell_type": "code",
   "execution_count": 79,
   "id": "bdae9e95",
   "metadata": {},
   "outputs": [
    {
     "data": {
      "image/png": "[encoded data removed]",
      "text/plain": [
       "<Figure size 576x576 with 2 Axes>"
      ]
     },
     "metadata": {
      "needs_background": "light"
     },
     "output_type": "display_data"
    }
   ],
   "source": [
    "#constructing a heatmap to understand the correlatiion \n",
    "plt.figure(figsize = (8,8))\n",
    "sns.heatmap(correlation, cbar = True, square = True, fmt = '.1f', annot = True, annot_kws = {'size': 8}, cmap = 'Blues');"
   ]
  },
  {
   "cell_type": "code",
   "execution_count": 80,
   "id": "e7bff384",
   "metadata": {},
   "outputs": [
    {
     "name": "stdout",
     "output_type": "stream",
     "text": [
      "SPX        0.049345\n",
      "GLD        1.000000\n",
      "USO       -0.186360\n",
      "SLV        0.866632\n",
      "EUR/USD   -0.024375\n",
      "Name: GLD, dtype: float64\n"
     ]
    }
   ],
   "source": [
    "print(correlation['GLD'])"
   ]
  },
  {
   "cell_type": "code",
   "execution_count": 81,
   "id": "5c44eea4",
   "metadata": {},
   "outputs": [
    {
     "data": {
      "image/png": "[encoded data removed]",
      "text/plain": [
       "<Figure size 360x360 with 1 Axes>"
      ]
     },
     "metadata": {
      "needs_background": "light"
     },
     "output_type": "display_data"
    }
   ],
   "source": [
    "sns.displot(gold_data['GLD'], color = 'skyblue', kde = True);"
   ]
  },
  {
   "cell_type": "code",
   "execution_count": 82,
   "id": "7dc0da9c",
   "metadata": {},
   "outputs": [],
   "source": [
    "#spliting the feature and targets\n",
    "X = gold_data.drop(['Date', 'GLD'], axis = 1)\n",
    "Y = gold_data['GLD']\n"
   ]
  },
  {
   "cell_type": "code",
   "execution_count": 83,
   "id": "f6120962",
   "metadata": {},
   "outputs": [
    {
     "data": {
      "text/html": [
       "<div>\n",
       "<style scoped>\n",
       "    .dataframe tbody tr th:only-of-type {\n",
       "        vertical-align: middle;\n",
       "    }\n",
       "\n",
       "    .dataframe tbody tr th {\n",
       "        vertical-align: top;\n",
       "    }\n",
       "\n",
       "    .dataframe thead th {\n",
       "        text-align: right;\n",
       "    }\n",
       "</style>\n",
       "<table border=\"1\" class=\"dataframe\">\n",
       "  <thead>\n",
       "    <tr style=\"text-align: right;\">\n",
       "      <th></th>\n",
       "      <th>SPX</th>\n",
       "      <th>USO</th>\n",
       "      <th>SLV</th>\n",
       "      <th>EUR/USD</th>\n",
       "    </tr>\n",
       "  </thead>\n",
       "  <tbody>\n",
       "    <tr>\n",
       "      <th>0</th>\n",
       "      <td>1447.160034</td>\n",
       "      <td>78.470001</td>\n",
       "      <td>15.1800</td>\n",
       "      <td>1.471692</td>\n",
       "    </tr>\n",
       "    <tr>\n",
       "      <th>1</th>\n",
       "      <td>1447.160034</td>\n",
       "      <td>78.370003</td>\n",
       "      <td>15.2850</td>\n",
       "      <td>1.474491</td>\n",
       "    </tr>\n",
       "    <tr>\n",
       "      <th>2</th>\n",
       "      <td>1411.630005</td>\n",
       "      <td>77.309998</td>\n",
       "      <td>15.1670</td>\n",
       "      <td>1.475492</td>\n",
       "    </tr>\n",
       "    <tr>\n",
       "      <th>3</th>\n",
       "      <td>1416.180054</td>\n",
       "      <td>75.500000</td>\n",
       "      <td>15.0530</td>\n",
       "      <td>1.468299</td>\n",
       "    </tr>\n",
       "    <tr>\n",
       "      <th>4</th>\n",
       "      <td>1390.189941</td>\n",
       "      <td>76.059998</td>\n",
       "      <td>15.5900</td>\n",
       "      <td>1.557099</td>\n",
       "    </tr>\n",
       "    <tr>\n",
       "      <th>...</th>\n",
       "      <td>...</td>\n",
       "      <td>...</td>\n",
       "      <td>...</td>\n",
       "      <td>...</td>\n",
       "    </tr>\n",
       "    <tr>\n",
       "      <th>2285</th>\n",
       "      <td>2671.919922</td>\n",
       "      <td>14.060000</td>\n",
       "      <td>15.5100</td>\n",
       "      <td>1.186789</td>\n",
       "    </tr>\n",
       "    <tr>\n",
       "      <th>2286</th>\n",
       "      <td>2697.790039</td>\n",
       "      <td>14.370000</td>\n",
       "      <td>15.5300</td>\n",
       "      <td>1.184722</td>\n",
       "    </tr>\n",
       "    <tr>\n",
       "      <th>2287</th>\n",
       "      <td>2723.070068</td>\n",
       "      <td>14.410000</td>\n",
       "      <td>15.7400</td>\n",
       "      <td>1.191753</td>\n",
       "    </tr>\n",
       "    <tr>\n",
       "      <th>2288</th>\n",
       "      <td>2730.129883</td>\n",
       "      <td>14.380000</td>\n",
       "      <td>15.5600</td>\n",
       "      <td>1.193118</td>\n",
       "    </tr>\n",
       "    <tr>\n",
       "      <th>2289</th>\n",
       "      <td>2725.780029</td>\n",
       "      <td>14.405800</td>\n",
       "      <td>15.4542</td>\n",
       "      <td>1.182033</td>\n",
       "    </tr>\n",
       "  </tbody>\n",
       "</table>\n",
       "<p>2290 rows × 4 columns</p>\n",
       "</div>"
      ],
      "text/plain": [
       "              SPX        USO      SLV   EUR/USD\n",
       "0     1447.160034  78.470001  15.1800  1.471692\n",
       "1     1447.160034  78.370003  15.2850  1.474491\n",
       "2     1411.630005  77.309998  15.1670  1.475492\n",
       "3     1416.180054  75.500000  15.0530  1.468299\n",
       "4     1390.189941  76.059998  15.5900  1.557099\n",
       "...           ...        ...      ...       ...\n",
       "2285  2671.919922  14.060000  15.5100  1.186789\n",
       "2286  2697.790039  14.370000  15.5300  1.184722\n",
       "2287  2723.070068  14.410000  15.7400  1.191753\n",
       "2288  2730.129883  14.380000  15.5600  1.193118\n",
       "2289  2725.780029  14.405800  15.4542  1.182033\n",
       "\n",
       "[2290 rows x 4 columns]"
      ]
     },
     "execution_count": 83,
     "metadata": {},
     "output_type": "execute_result"
    }
   ],
   "source": [
    "X"
   ]
  },
  {
   "cell_type": "code",
   "execution_count": 84,
   "id": "b25771d1",
   "metadata": {},
   "outputs": [
    {
     "data": {
      "text/plain": [
       "0        84.860001\n",
       "1        85.570000\n",
       "2        85.129997\n",
       "3        84.769997\n",
       "4        86.779999\n",
       "           ...    \n",
       "2285    124.589996\n",
       "2286    124.330002\n",
       "2287    125.180000\n",
       "2288    124.489998\n",
       "2289    122.543800\n",
       "Name: GLD, Length: 2290, dtype: float64"
      ]
     },
     "execution_count": 84,
     "metadata": {},
     "output_type": "execute_result"
    }
   ],
   "source": [
    "Y"
   ]
  },
  {
   "cell_type": "code",
   "execution_count": 85,
   "id": "ba2459e4",
   "metadata": {},
   "outputs": [],
   "source": [
    "#spliting into train and training data\n",
    "X_train, X_test, Y_train, Y_test = train_test_split( X, Y, test_size = 0.2, random_state = 2)"
   ]
  },
  {
   "cell_type": "code",
   "execution_count": 86,
   "id": "cbefe83b",
   "metadata": {},
   "outputs": [],
   "source": [
    "#model training \n",
    "regressor = RandomForestRegressor(n_estimators = 100)"
   ]
  },
  {
   "cell_type": "code",
   "execution_count": 87,
   "id": "2113468d",
   "metadata": {},
   "outputs": [
    {
     "data": {
      "text/plain": [
       "RandomForestRegressor()"
      ]
     },
     "execution_count": 87,
     "metadata": {},
     "output_type": "execute_result"
    }
   ],
   "source": [
    "regressor.fit(X_train, Y_train)"
   ]
  },
  {
   "cell_type": "markdown",
   "id": "c96372fa",
   "metadata": {},
   "source": [
    "## Model Evaluation "
   ]
  },
  {
   "cell_type": "code",
   "execution_count": 88,
   "id": "312645d3",
   "metadata": {},
   "outputs": [],
   "source": [
    "test_data_prediction = regressor.predict(X_test)"
   ]
  },
  {
   "cell_type": "code",
   "execution_count": 89,
   "id": "a9161464",
   "metadata": {},
   "outputs": [
    {
     "data": {
      "text/plain": [
       "array([168.54039963,  81.72809999, 116.14530049, 127.68030065,\n",
       "       120.71340123, 154.62839767, 150.40879894, 126.14450056,\n",
       "       117.63259878, 125.88660079, 116.8466008 , 172.49290086,\n",
       "       140.87229833, 167.68849866, 115.16080022, 117.4441007 ,\n",
       "       139.22820265, 169.79259976, 159.79540304, 157.58549961,\n",
       "       155.2281002 , 125.33120031, 175.08120004, 156.82290436,\n",
       "       125.22070047,  94.0737996 ,  77.66270002, 120.50199997,\n",
       "       119.08029917, 167.42330003,  88.17090066, 125.39270013,\n",
       "        91.15790105, 117.88590032, 121.04949937, 136.76950082,\n",
       "       115.4228017 , 115.29960124, 148.35150024, 107.28360079,\n",
       "       104.45260239,  87.29419793, 126.46430052, 118.00959988,\n",
       "       153.00349947, 119.53420016, 108.32420012, 108.26989852,\n",
       "        93.17700013, 127.13359779,  74.9233002 , 113.65369886,\n",
       "       121.41059984, 111.10959975, 118.82049868, 120.76639929,\n",
       "       160.08100055, 167.52550078, 147.13549729,  85.73909868,\n",
       "        94.31490042,  86.73789893,  90.70970056, 119.03230072,\n",
       "       126.34250035, 127.42200023, 168.35539974, 122.30109923,\n",
       "       117.4386989 ,  98.42160036, 167.66220232, 142.90159873,\n",
       "       131.56760274, 121.18160226, 121.43789915, 119.6295006 ,\n",
       "       114.56870156, 118.46400041, 107.13750122, 127.91800095,\n",
       "       113.87999967, 107.48180046, 117.07800051, 119.68259884,\n",
       "        89.04520055,  88.26989854, 146.67610231, 127.37409989,\n",
       "       113.19090042, 110.39979865, 108.14139897,  77.74639897,\n",
       "       169.76060206, 114.0091992 , 121.59979931, 127.5874017 ,\n",
       "       154.81389865,  91.69639952, 135.57350183, 159.01240304,\n",
       "       125.38890057, 125.15250049, 130.48660242, 114.87340145,\n",
       "       119.78490027,  92.14899978, 110.12409904, 164.81909889,\n",
       "       155.93399872, 114.31399965, 106.80340124,  78.7751    ,\n",
       "       113.19110042, 125.77870091, 107.55139926, 119.460901  ,\n",
       "       155.33080292, 159.73109935, 120.55789972, 134.10880275,\n",
       "       101.16690005, 117.57199782, 119.22250009, 112.98400087,\n",
       "       102.774899  , 159.5399979 ,  98.69980014, 148.99619923,\n",
       "       125.62110116, 169.12029956, 125.59649837, 127.39719708,\n",
       "       127.34060176, 113.77979937, 112.77220045, 123.48759924,\n",
       "       102.25469893,  89.25689976, 124.78499966, 101.37039943,\n",
       "       107.24289936, 113.32330056, 117.35930079,  99.21259977,\n",
       "       121.64030056, 163.1521987 ,  87.51529886, 106.69839938,\n",
       "       117.00910093, 127.70460117, 124.05130079,  80.74609937,\n",
       "       120.25570046, 158.59599873,  87.87790011, 110.43189966,\n",
       "       118.71829939, 173.06489817, 102.95749894, 105.32050028,\n",
       "       122.60520026, 158.69369795,  87.62709849,  93.02170001,\n",
       "       112.55270022, 176.69059957, 114.72879968, 119.24850009,\n",
       "        94.68410102, 125.65590044, 166.23950095, 114.79230029,\n",
       "       116.78690139,  88.30519855, 148.81590132, 120.26819962,\n",
       "        89.67500003, 112.36890006, 117.19630039, 118.7982011 ,\n",
       "        87.98689934,  94.14010005, 117.08270042, 118.51900203,\n",
       "       119.98560036, 126.76479845, 121.84359991, 151.14230021,\n",
       "       165.35810146, 118.57609948, 120.24840122, 151.41629974,\n",
       "       117.90599941, 173.58429877, 105.15659941, 104.94680138,\n",
       "       149.03910124, 113.62990045, 124.86180106, 147.3263999 ,\n",
       "       119.5732009 , 115.21360074, 112.67060007, 113.5225022 ,\n",
       "       139.26920122, 117.82499763, 102.93780072, 115.87210118,\n",
       "       103.85010173,  98.97580012, 117.10820072,  90.67349979,\n",
       "        91.39970018, 153.68229938, 102.72319961, 154.80300092,\n",
       "       114.42880177, 138.26680116,  90.13139812, 115.61859979,\n",
       "       114.48399953, 123.05030055, 121.59850054, 165.3670014 ,\n",
       "        92.94259952, 134.84150099, 121.27419938, 120.80110056,\n",
       "       104.6206001 , 142.02020314, 121.67679911, 116.6686002 ,\n",
       "       113.68350089, 127.1082975 , 122.73359951, 125.80659972,\n",
       "       121.16060048,  86.73969907, 132.4550011 , 143.7495021 ,\n",
       "        92.72059969, 160.1714004 , 158.87540244, 126.39939951,\n",
       "       164.34099943, 108.65679953, 109.48130117, 103.60839826,\n",
       "        94.32150085, 127.61850279, 107.19850067, 163.37150095,\n",
       "       121.68060051, 131.91319989, 130.52170222, 161.08110028,\n",
       "        90.24559861, 174.44510198, 127.17349993, 126.79569842,\n",
       "        86.31849902, 124.64059974, 150.63129692,  89.7264    ,\n",
       "       106.76019968, 108.92910023,  84.67029942, 136.14890098,\n",
       "       155.11800172, 139.2527034 ,  73.89850047, 152.42970077,\n",
       "       126.13659935, 126.7530999 , 127.48069921, 108.55029973,\n",
       "       156.18889966, 114.48810128, 117.0195015 , 125.28429979,\n",
       "       154.00840126, 121.18749984, 156.30179904,  92.99570078,\n",
       "       125.50240149, 125.45670029,  87.93700067,  92.22029911,\n",
       "       126.22469903, 128.3543031 , 113.19920088, 117.76319746,\n",
       "       120.85770002, 127.1585981 , 119.93620095, 136.32310091,\n",
       "        94.13019941, 119.79550071, 112.88760101,  94.28959935,\n",
       "       108.83599996,  87.4829996 , 108.87119979,  89.59520027,\n",
       "        92.38840039, 131.58900331, 162.28020123,  89.20710024,\n",
       "       119.74380086, 133.31350175, 123.83230001, 128.211902  ,\n",
       "       102.0844985 ,  88.85429902, 132.16920073, 119.87630047,\n",
       "       108.24510015, 167.77670125, 115.09700029,  86.49649896,\n",
       "       118.82360062,  90.91369982, 161.58130112, 116.71260037,\n",
       "       121.32609997, 160.5039978 , 120.08629953, 112.80419935,\n",
       "       108.4331987 , 126.66609966,  76.2118002 , 103.04809979,\n",
       "       127.40360267, 121.86969959,  92.61170008, 132.63890041,\n",
       "       118.15150128, 116.17479982, 154.60740258, 159.75300065,\n",
       "       109.98169935, 151.73249778, 119.29370074, 160.29210122,\n",
       "       118.81370052, 157.87479929, 115.13849933, 116.73860045,\n",
       "       149.65089888, 114.80750071, 125.63319811, 166.68069933,\n",
       "       117.86930016, 124.96539933, 153.29770343, 153.38960199,\n",
       "       132.14240071, 114.83730031, 121.29030216, 124.87760074,\n",
       "        89.88040055, 123.39869962, 154.93520206, 111.72970042,\n",
       "       106.70159965, 161.97990134, 118.32269986, 165.68950041,\n",
       "       133.98970123, 114.92679963, 153.05029934, 168.67340058,\n",
       "       114.95349991, 113.92590107, 157.26049865,  85.40549901,\n",
       "       127.06990093, 127.98870021, 128.98939997, 124.39940056,\n",
       "       123.77500043,  90.56220122, 153.06570004,  97.11459972,\n",
       "       137.81709995,  89.19639939, 107.46440049, 115.02860054,\n",
       "       112.44130084, 124.13879903,  91.42959859, 125.34570121,\n",
       "       162.08769878, 119.77929919, 165.14820123, 126.72209825,\n",
       "       112.31010013, 127.56329927,  94.91519901,  90.85820053,\n",
       "       102.64709912, 120.86659981,  83.10479941, 126.24399992,\n",
       "       160.31100505, 117.21610091, 118.34200003, 119.71020015,\n",
       "       122.66039953, 120.12190132, 121.67120061, 118.05140058,\n",
       "       107.14760005, 148.34240063, 126.10439858, 115.80110084,\n",
       "        73.9788999 , 127.86820099, 154.38960106, 122.3761003 ,\n",
       "       125.49110035,  88.89640075, 103.62239841, 124.53070029,\n",
       "       120.28140019,  73.5549008 , 151.96159895, 121.35060001,\n",
       "       104.48810006,  86.19459799, 114.99049898, 172.14179854,\n",
       "       120.01370021, 160.02219853, 113.22689954, 121.18170053,\n",
       "       118.60910133,  96.01689974, 118.70220011, 125.87010056,\n",
       "       118.44499966,  96.26690089, 154.16470129, 122.04449986,\n",
       "       147.18849988, 159.8285026 , 113.95440046, 122.42569952,\n",
       "       146.71379836, 127.18460003, 165.60650106, 134.6962009 ,\n",
       "       119.91889936, 167.68119848, 108.47439938, 121.5228985 ,\n",
       "       138.76720098, 105.74129898])"
      ]
     },
     "execution_count": 89,
     "metadata": {},
     "output_type": "execute_result"
    }
   ],
   "source": [
    "test_data_prediction "
   ]
  },
  {
   "cell_type": "code",
   "execution_count": 90,
   "id": "7ce67809",
   "metadata": {},
   "outputs": [],
   "source": [
    "error_score = metrics.r2_score(Y_test, test_data_prediction)"
   ]
  },
  {
   "cell_type": "code",
   "execution_count": 91,
   "id": "2db21540",
   "metadata": {},
   "outputs": [
    {
     "data": {
      "text/plain": [
       "0.9890175228603435"
      ]
     },
     "execution_count": 91,
     "metadata": {},
     "output_type": "execute_result"
    }
   ],
   "source": [
    "error_score"
   ]
  },
  {
   "cell_type": "markdown",
   "id": "015e1148",
   "metadata": {},
   "source": [
    "## Comparing the Actual values and Predicted values in a plot"
   ]
  },
  {
   "cell_type": "code",
   "execution_count": 92,
   "id": "efb25d65",
   "metadata": {},
   "outputs": [],
   "source": [
    "Y_test = list(Y_test)"
   ]
  },
  {
   "cell_type": "code",
   "execution_count": 93,
   "id": "7bddd878",
   "metadata": {},
   "outputs": [
    {
     "data": {
      "image/png": "[encoded data removed]",
      "text/plain": [
       "<Figure size 432x288 with 1 Axes>"
      ]
     },
     "metadata": {
      "needs_background": "light"
     },
     "output_type": "display_data"
    }
   ],
   "source": [
    "plt.plot(Y_test, color = 'blue', label = 'Actual values')\n",
    "plt.plot(test_data_prediction, color = 'skyBlue', label = 'Predicted values')\n",
    "plt.title = ('Prediction vs Actual Values')\n",
    "plt.xlabel('Values')\n",
    "plt.ylabel('Gold Price')\n",
    "plt.legend()\n",
    "plt.show()"
   ]
  },
  {
   "cell_type": "code",
   "execution_count": null,
   "id": "f682030c",
   "metadata": {},
   "outputs": [],
   "source": []
  }
 ],
 "metadata": {
  "kernelspec": {
   "display_name": "Python 3",
   "language": "python",
   "name": "python3"
  },
  "language_info": {
   "codemirror_mode": {
    "name": "ipython",
    "version": 3
   },
   "file_extension": ".py",
   "mimetype": "text/x-python",
   "name": "python",
   "nbconvert_exporter": "python",
   "pygments_lexer": "ipython3",
   "version": "3.8.8"
  }
 },
 "nbformat": 4,
 "nbformat_minor": 5
}
